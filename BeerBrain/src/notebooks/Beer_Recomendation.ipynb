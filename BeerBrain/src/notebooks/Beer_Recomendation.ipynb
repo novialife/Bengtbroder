{
  "nbformat": 4,
  "nbformat_minor": 0,
  "metadata": {
    "colab": {
      "provenance": [],
      "gpuType": "T4"
    },
    "kernelspec": {
      "name": "python3",
      "display_name": "Python 3"
    },
    "language_info": {
      "name": "python"
    },
    "accelerator": "GPU"
  },
  "cells": [
    {
      "cell_type": "code",
      "execution_count": null,
      "metadata": {
        "id": "1qr5pg2dYbQn",
        "collapsed": true
      },
      "outputs": [],
      "source": [
        "#!pip install nvtabular\n",
        "#!pip install merlin-models\n",
        "#!pip install tensorflow==2.10"
      ]
    },
    {
      "cell_type": "code",
      "source": [
        "from merlin.core.dispatch import get_lib\n",
        "import nvtabular as nvt\n",
        "from merlin.schema.tags import Tags\n",
        "import numpy as np\n",
        "import tensorflow\n",
        "import merlin.models.tf as mm"
      ],
      "metadata": {
        "id": "UakGE-noZEFw"
      },
      "execution_count": null,
      "outputs": []
    },
    {
      "cell_type": "code",
      "source": [
        "from google.colab import drive\n",
        "drive.mount('/content/drive')"
      ],
      "metadata": {
        "colab": {
          "base_uri": "https://localhost:8080/"
        },
        "id": "0WArLgP_11fj",
        "outputId": "7ef39b31-311a-4541-c625-1b543c6d9f76"
      },
      "execution_count": null,
      "outputs": [
        {
          "output_type": "stream",
          "name": "stdout",
          "text": [
            "Drive already mounted at /content/drive; to attempt to forcibly remount, call drive.mount(\"/content/drive\", force_remount=True).\n"
          ]
        }
      ]
    },
    {
      "cell_type": "code",
      "source": [
        "file_path = \"/content/drive/MyDrive/DH2465-DH2655/BeerBrain (Aka cringe DL modeler för lätta VC pengar)/beer_reviews.csv\"\n",
        "data = get_lib().read_csv(file_path)"
      ],
      "metadata": {
        "id": "-HkJ1-HpZF7o"
      },
      "execution_count": null,
      "outputs": []
    },
    {
      "cell_type": "code",
      "source": [
        "# Remvoe the rows with missing values\n",
        "data = data.dropna()"
      ],
      "metadata": {
        "id": "Z2aCsjZaaByI"
      },
      "execution_count": null,
      "outputs": []
    },
    {
      "cell_type": "code",
      "source": [
        "#data.drop_duplicates(subset=[\"beer_beerid\"], inplace=True)"
      ],
      "metadata": {
        "id": "kZSQdVtC3A3H"
      },
      "execution_count": null,
      "outputs": []
    },
    {
      "cell_type": "code",
      "source": [
        "# Integer encode the beer_style column\n",
        "data[\"beer_style_code\"] = data[\"beer_style\"].astype(\"category\")\n",
        "data[\"beer_style_code\"] = data[\"beer_style_code\"].cat.codes"
      ],
      "metadata": {
        "id": "evHu2bJxaCPi"
      },
      "execution_count": null,
      "outputs": []
    },
    {
      "cell_type": "code",
      "source": [
        "data = data.drop(columns=['review_aroma', 'review_appearance', 'review_palate', 'review_taste', 'beer_abv', 'review_time', 'brewery_id', \"brewery_name\", \"beer_name\", \"beer_style\"])"
      ],
      "metadata": {
        "id": "UgprZqB0aHAR"
      },
      "execution_count": null,
      "outputs": []
    },
    {
      "cell_type": "code",
      "source": [
        "# Use the review_profilename as the partition key for the training and test set\n",
        "# Get the unique values of the review_profilename column\n",
        "unique_review_profilename = data[\"review_profilename\"].unique()\n",
        "\n",
        "# Shuffle the unique values\n",
        "np.random.shuffle(unique_review_profilename)\n",
        "\n",
        "train_users = unique_review_profilename[:int(len(unique_review_profilename) * 0.8)]\n",
        "test_users = unique_review_profilename[int(len(unique_review_profilename) * 0.8):]"
      ],
      "metadata": {
        "id": "rLOO_VXraJ-r"
      },
      "execution_count": null,
      "outputs": []
    },
    {
      "cell_type": "code",
      "source": [
        "# Use the train_users to create the training set as a pandas dataframe\n",
        "train = data[data[\"review_profilename\"].isin(train_users)]\n",
        "\n",
        "# Use the test_users to create the test set as a pandas dataframe\n",
        "test = data[data[\"review_profilename\"].isin(test_users)]"
      ],
      "metadata": {
        "id": "aBvDgQkFaN4s"
      },
      "execution_count": null,
      "outputs": []
    },
    {
      "cell_type": "code",
      "source": [
        "train_ds = nvt.Dataset(train, npartitions=2)\n",
        "valid_ds = nvt.Dataset(test)\n",
        "\n",
        "train_ds, valid_ds"
      ],
      "metadata": {
        "id": "ObwFnLyUaWcl",
        "colab": {
          "base_uri": "https://localhost:8080/"
        },
        "outputId": "c558f9bb-4cb8-4026-80f1-580ef262c301"
      },
      "execution_count": null,
      "outputs": [
        {
          "output_type": "stream",
          "name": "stderr",
          "text": [
            "/usr/local/lib/python3.10/dist-packages/merlin/io/dataset.py:267: UserWarning: Initializing an NVTabular Dataset in CPU mode.This is an experimental feature with extremely limited support!\n",
            "  warnings.warn(\n"
          ]
        },
        {
          "output_type": "execute_result",
          "data": {
            "text/plain": [
              "(<merlin.io.dataset.Dataset at 0x7a148bfd0eb0>,\n",
              " <merlin.io.dataset.Dataset at 0x7a148bfd13c0>)"
            ]
          },
          "metadata": {},
          "execution_count": 88
        }
      ]
    },
    {
      "cell_type": "code",
      "source": [
        "train_ds.shuffle_by_keys('review_profilename')\n",
        "valid_ds.shuffle_by_keys('review_profilename')"
      ],
      "metadata": {
        "id": "Hybpu2jjaTwh",
        "colab": {
          "base_uri": "https://localhost:8080/"
        },
        "outputId": "7b83a62c-b58d-452c-813c-368a40071a5e"
      },
      "execution_count": null,
      "outputs": [
        {
          "output_type": "stream",
          "name": "stderr",
          "text": [
            "/usr/local/lib/python3.10/dist-packages/merlin/io/dataset.py:267: UserWarning: Initializing an NVTabular Dataset in CPU mode.This is an experimental feature with extremely limited support!\n",
            "  warnings.warn(\n",
            "/usr/local/lib/python3.10/dist-packages/merlin/io/dataset.py:267: UserWarning: Initializing an NVTabular Dataset in CPU mode.This is an experimental feature with extremely limited support!\n",
            "  warnings.warn(\n"
          ]
        },
        {
          "output_type": "execute_result",
          "data": {
            "text/plain": [
              "<merlin.io.dataset.Dataset at 0x7a148bfd0e80>"
            ]
          },
          "metadata": {},
          "execution_count": 89
        }
      ]
    },
    {
      "cell_type": "code",
      "source": [
        "styles = ['beer_style_code'] >> nvt.ops.Categorify(freq_threshold=10)"
      ],
      "metadata": {
        "id": "8zK915WVaXt3"
      },
      "execution_count": null,
      "outputs": []
    },
    {
      "cell_type": "code",
      "source": [
        "def rating_to_binary(col):\n",
        "    return (col > 3.5).astype('float')"
      ],
      "metadata": {
        "id": "gsUx60JKaZUC"
      },
      "execution_count": null,
      "outputs": []
    },
    {
      "cell_type": "code",
      "source": [
        "binary_ratings_ops = [col >> nvt.ops.LambdaOp(rating_to_binary) >> nvt.ops.Rename(name=f'binary_{col}') for col in ['review_aroma', 'review_appearance', 'review_palate', 'review_taste']]"
      ],
      "metadata": {
        "id": "3-MZaIzzabBS"
      },
      "execution_count": null,
      "outputs": []
    },
    {
      "cell_type": "code",
      "source": [
        "binary_ratings_tagged = []\n",
        "for op in binary_ratings_ops:\n",
        "    binary_ratings_tagged.append(op >> nvt.ops.AddTags(tags=[Tags.CONTEXT]))"
      ],
      "metadata": {
        "id": "FR30VTVPacq2"
      },
      "execution_count": null,
      "outputs": []
    },
    {
      "cell_type": "code",
      "source": [
        "binary_target = ['review_overall'] >> nvt.ops.LambdaOp(rating_to_binary) >> nvt.ops.Rename(name='binary_target')\n"
      ],
      "metadata": {
        "id": "cAPSSl1DeqiE"
      },
      "execution_count": null,
      "outputs": []
    },
    {
      "cell_type": "code",
      "source": [
        "userId = ['review_profilename'] >> nvt.ops.Categorify() >> nvt.ops.AddTags(tags=[Tags.USER_ID, Tags.CATEGORICAL, Tags.USER])\n",
        "beerId = ['beer_beerid'] >> nvt.ops.Categorify() >> nvt.ops.AddTags(tags=[Tags.ITEM_ID, Tags.CATEGORICAL, Tags.ITEM])\n",
        "binary_target = binary_target >> nvt.ops.AddTags(tags=[Tags.TARGET, Tags.BINARY_CLASSIFICATION])\n"
      ],
      "metadata": {
        "id": "ID29AzEHafBz"
      },
      "execution_count": null,
      "outputs": []
    },
    {
      "cell_type": "code",
      "source": [
        "workflow = nvt.Workflow(userId + beerId + styles + binary_target)"
      ],
      "metadata": {
        "id": "r4TPikx3agCM"
      },
      "execution_count": null,
      "outputs": []
    },
    {
      "cell_type": "code",
      "source": [
        "train_transformed = workflow.fit_transform(train_ds)\n",
        "valid_transformed = workflow.transform(valid_ds)\n",
        "valid_transformed.compute().head()"
      ],
      "metadata": {
        "id": "7Rr5z-m7ajXM",
        "colab": {
          "base_uri": "https://localhost:8080/",
          "height": 326
        },
        "outputId": "5eb3feda-0771-4292-8ae4-30c45d94a1ff"
      },
      "execution_count": null,
      "outputs": [
        {
          "output_type": "stream",
          "name": "stderr",
          "text": [
            "/usr/local/lib/python3.10/dist-packages/merlin/io/dataset.py:267: UserWarning: Initializing an NVTabular Dataset in CPU mode.This is an experimental feature with extremely limited support!\n",
            "  warnings.warn(\n",
            "/usr/local/lib/python3.10/dist-packages/merlin/io/dataset.py:267: UserWarning: Initializing an NVTabular Dataset in CPU mode.This is an experimental feature with extremely limited support!\n",
            "  warnings.warn(\n",
            "/usr/local/lib/python3.10/dist-packages/merlin/io/dataset.py:267: UserWarning: Initializing an NVTabular Dataset in CPU mode.This is an experimental feature with extremely limited support!\n",
            "  warnings.warn(\n"
          ]
        },
        {
          "output_type": "execute_result",
          "data": {
            "text/plain": [
              "   review_profilename  beer_beerid  beer_style_code  binary_target\n",
              "0                   2        12334               53            1.0\n",
              "1                   2            2               61            1.0\n",
              "2                   2          621               41            0.0\n",
              "3                   2         5602               80            1.0\n",
              "4                   2         5602               80            1.0"
            ],
            "text/html": [
              "\n",
              "  <div id=\"df-3a60e501-4d0b-4359-ad1e-0cf261071f6f\" class=\"colab-df-container\">\n",
              "    <div>\n",
              "<style scoped>\n",
              "    .dataframe tbody tr th:only-of-type {\n",
              "        vertical-align: middle;\n",
              "    }\n",
              "\n",
              "    .dataframe tbody tr th {\n",
              "        vertical-align: top;\n",
              "    }\n",
              "\n",
              "    .dataframe thead th {\n",
              "        text-align: right;\n",
              "    }\n",
              "</style>\n",
              "<table border=\"1\" class=\"dataframe\">\n",
              "  <thead>\n",
              "    <tr style=\"text-align: right;\">\n",
              "      <th></th>\n",
              "      <th>review_profilename</th>\n",
              "      <th>beer_beerid</th>\n",
              "      <th>beer_style_code</th>\n",
              "      <th>binary_target</th>\n",
              "    </tr>\n",
              "  </thead>\n",
              "  <tbody>\n",
              "    <tr>\n",
              "      <th>0</th>\n",
              "      <td>2</td>\n",
              "      <td>12334</td>\n",
              "      <td>53</td>\n",
              "      <td>1.0</td>\n",
              "    </tr>\n",
              "    <tr>\n",
              "      <th>1</th>\n",
              "      <td>2</td>\n",
              "      <td>2</td>\n",
              "      <td>61</td>\n",
              "      <td>1.0</td>\n",
              "    </tr>\n",
              "    <tr>\n",
              "      <th>2</th>\n",
              "      <td>2</td>\n",
              "      <td>621</td>\n",
              "      <td>41</td>\n",
              "      <td>0.0</td>\n",
              "    </tr>\n",
              "    <tr>\n",
              "      <th>3</th>\n",
              "      <td>2</td>\n",
              "      <td>5602</td>\n",
              "      <td>80</td>\n",
              "      <td>1.0</td>\n",
              "    </tr>\n",
              "    <tr>\n",
              "      <th>4</th>\n",
              "      <td>2</td>\n",
              "      <td>5602</td>\n",
              "      <td>80</td>\n",
              "      <td>1.0</td>\n",
              "    </tr>\n",
              "  </tbody>\n",
              "</table>\n",
              "</div>\n",
              "    <div class=\"colab-df-buttons\">\n",
              "\n",
              "  <div class=\"colab-df-container\">\n",
              "    <button class=\"colab-df-convert\" onclick=\"convertToInteractive('df-3a60e501-4d0b-4359-ad1e-0cf261071f6f')\"\n",
              "            title=\"Convert this dataframe to an interactive table.\"\n",
              "            style=\"display:none;\">\n",
              "\n",
              "  <svg xmlns=\"http://www.w3.org/2000/svg\" height=\"24px\" viewBox=\"0 -960 960 960\">\n",
              "    <path d=\"M120-120v-720h720v720H120Zm60-500h600v-160H180v160Zm220 220h160v-160H400v160Zm0 220h160v-160H400v160ZM180-400h160v-160H180v160Zm440 0h160v-160H620v160ZM180-180h160v-160H180v160Zm440 0h160v-160H620v160Z\"/>\n",
              "  </svg>\n",
              "    </button>\n",
              "\n",
              "  <style>\n",
              "    .colab-df-container {\n",
              "      display:flex;\n",
              "      gap: 12px;\n",
              "    }\n",
              "\n",
              "    .colab-df-convert {\n",
              "      background-color: #E8F0FE;\n",
              "      border: none;\n",
              "      border-radius: 50%;\n",
              "      cursor: pointer;\n",
              "      display: none;\n",
              "      fill: #1967D2;\n",
              "      height: 32px;\n",
              "      padding: 0 0 0 0;\n",
              "      width: 32px;\n",
              "    }\n",
              "\n",
              "    .colab-df-convert:hover {\n",
              "      background-color: #E2EBFA;\n",
              "      box-shadow: 0px 1px 2px rgba(60, 64, 67, 0.3), 0px 1px 3px 1px rgba(60, 64, 67, 0.15);\n",
              "      fill: #174EA6;\n",
              "    }\n",
              "\n",
              "    .colab-df-buttons div {\n",
              "      margin-bottom: 4px;\n",
              "    }\n",
              "\n",
              "    [theme=dark] .colab-df-convert {\n",
              "      background-color: #3B4455;\n",
              "      fill: #D2E3FC;\n",
              "    }\n",
              "\n",
              "    [theme=dark] .colab-df-convert:hover {\n",
              "      background-color: #434B5C;\n",
              "      box-shadow: 0px 1px 3px 1px rgba(0, 0, 0, 0.15);\n",
              "      filter: drop-shadow(0px 1px 2px rgba(0, 0, 0, 0.3));\n",
              "      fill: #FFFFFF;\n",
              "    }\n",
              "  </style>\n",
              "\n",
              "    <script>\n",
              "      const buttonEl =\n",
              "        document.querySelector('#df-3a60e501-4d0b-4359-ad1e-0cf261071f6f button.colab-df-convert');\n",
              "      buttonEl.style.display =\n",
              "        google.colab.kernel.accessAllowed ? 'block' : 'none';\n",
              "\n",
              "      async function convertToInteractive(key) {\n",
              "        const element = document.querySelector('#df-3a60e501-4d0b-4359-ad1e-0cf261071f6f');\n",
              "        const dataTable =\n",
              "          await google.colab.kernel.invokeFunction('convertToInteractive',\n",
              "                                                    [key], {});\n",
              "        if (!dataTable) return;\n",
              "\n",
              "        const docLinkHtml = 'Like what you see? Visit the ' +\n",
              "          '<a target=\"_blank\" href=https://colab.research.google.com/notebooks/data_table.ipynb>data table notebook</a>'\n",
              "          + ' to learn more about interactive tables.';\n",
              "        element.innerHTML = '';\n",
              "        dataTable['output_type'] = 'display_data';\n",
              "        await google.colab.output.renderOutput(dataTable, element);\n",
              "        const docLink = document.createElement('div');\n",
              "        docLink.innerHTML = docLinkHtml;\n",
              "        element.appendChild(docLink);\n",
              "      }\n",
              "    </script>\n",
              "  </div>\n",
              "\n",
              "\n",
              "<div id=\"df-1dc67863-b767-49bc-b599-aabafdb4b614\">\n",
              "  <button class=\"colab-df-quickchart\" onclick=\"quickchart('df-1dc67863-b767-49bc-b599-aabafdb4b614')\"\n",
              "            title=\"Suggest charts.\"\n",
              "            style=\"display:none;\">\n",
              "\n",
              "<svg xmlns=\"http://www.w3.org/2000/svg\" height=\"24px\"viewBox=\"0 0 24 24\"\n",
              "     width=\"24px\">\n",
              "    <g>\n",
              "        <path d=\"M19 3H5c-1.1 0-2 .9-2 2v14c0 1.1.9 2 2 2h14c1.1 0 2-.9 2-2V5c0-1.1-.9-2-2-2zM9 17H7v-7h2v7zm4 0h-2V7h2v10zm4 0h-2v-4h2v4z\"/>\n",
              "    </g>\n",
              "</svg>\n",
              "  </button>\n",
              "\n",
              "<style>\n",
              "  .colab-df-quickchart {\n",
              "      --bg-color: #E8F0FE;\n",
              "      --fill-color: #1967D2;\n",
              "      --hover-bg-color: #E2EBFA;\n",
              "      --hover-fill-color: #174EA6;\n",
              "      --disabled-fill-color: #AAA;\n",
              "      --disabled-bg-color: #DDD;\n",
              "  }\n",
              "\n",
              "  [theme=dark] .colab-df-quickchart {\n",
              "      --bg-color: #3B4455;\n",
              "      --fill-color: #D2E3FC;\n",
              "      --hover-bg-color: #434B5C;\n",
              "      --hover-fill-color: #FFFFFF;\n",
              "      --disabled-bg-color: #3B4455;\n",
              "      --disabled-fill-color: #666;\n",
              "  }\n",
              "\n",
              "  .colab-df-quickchart {\n",
              "    background-color: var(--bg-color);\n",
              "    border: none;\n",
              "    border-radius: 50%;\n",
              "    cursor: pointer;\n",
              "    display: none;\n",
              "    fill: var(--fill-color);\n",
              "    height: 32px;\n",
              "    padding: 0;\n",
              "    width: 32px;\n",
              "  }\n",
              "\n",
              "  .colab-df-quickchart:hover {\n",
              "    background-color: var(--hover-bg-color);\n",
              "    box-shadow: 0 1px 2px rgba(60, 64, 67, 0.3), 0 1px 3px 1px rgba(60, 64, 67, 0.15);\n",
              "    fill: var(--button-hover-fill-color);\n",
              "  }\n",
              "\n",
              "  .colab-df-quickchart-complete:disabled,\n",
              "  .colab-df-quickchart-complete:disabled:hover {\n",
              "    background-color: var(--disabled-bg-color);\n",
              "    fill: var(--disabled-fill-color);\n",
              "    box-shadow: none;\n",
              "  }\n",
              "\n",
              "  .colab-df-spinner {\n",
              "    border: 2px solid var(--fill-color);\n",
              "    border-color: transparent;\n",
              "    border-bottom-color: var(--fill-color);\n",
              "    animation:\n",
              "      spin 1s steps(1) infinite;\n",
              "  }\n",
              "\n",
              "  @keyframes spin {\n",
              "    0% {\n",
              "      border-color: transparent;\n",
              "      border-bottom-color: var(--fill-color);\n",
              "      border-left-color: var(--fill-color);\n",
              "    }\n",
              "    20% {\n",
              "      border-color: transparent;\n",
              "      border-left-color: var(--fill-color);\n",
              "      border-top-color: var(--fill-color);\n",
              "    }\n",
              "    30% {\n",
              "      border-color: transparent;\n",
              "      border-left-color: var(--fill-color);\n",
              "      border-top-color: var(--fill-color);\n",
              "      border-right-color: var(--fill-color);\n",
              "    }\n",
              "    40% {\n",
              "      border-color: transparent;\n",
              "      border-right-color: var(--fill-color);\n",
              "      border-top-color: var(--fill-color);\n",
              "    }\n",
              "    60% {\n",
              "      border-color: transparent;\n",
              "      border-right-color: var(--fill-color);\n",
              "    }\n",
              "    80% {\n",
              "      border-color: transparent;\n",
              "      border-right-color: var(--fill-color);\n",
              "      border-bottom-color: var(--fill-color);\n",
              "    }\n",
              "    90% {\n",
              "      border-color: transparent;\n",
              "      border-bottom-color: var(--fill-color);\n",
              "    }\n",
              "  }\n",
              "</style>\n",
              "\n",
              "  <script>\n",
              "    async function quickchart(key) {\n",
              "      const quickchartButtonEl =\n",
              "        document.querySelector('#' + key + ' button');\n",
              "      quickchartButtonEl.disabled = true;  // To prevent multiple clicks.\n",
              "      quickchartButtonEl.classList.add('colab-df-spinner');\n",
              "      try {\n",
              "        const charts = await google.colab.kernel.invokeFunction(\n",
              "            'suggestCharts', [key], {});\n",
              "      } catch (error) {\n",
              "        console.error('Error during call to suggestCharts:', error);\n",
              "      }\n",
              "      quickchartButtonEl.classList.remove('colab-df-spinner');\n",
              "      quickchartButtonEl.classList.add('colab-df-quickchart-complete');\n",
              "    }\n",
              "    (() => {\n",
              "      let quickchartButtonEl =\n",
              "        document.querySelector('#df-1dc67863-b767-49bc-b599-aabafdb4b614 button');\n",
              "      quickchartButtonEl.style.display =\n",
              "        google.colab.kernel.accessAllowed ? 'block' : 'none';\n",
              "    })();\n",
              "  </script>\n",
              "</div>\n",
              "    </div>\n",
              "  </div>\n"
            ]
          },
          "metadata": {},
          "execution_count": 97
        }
      ]
    },
    {
      "cell_type": "code",
      "source": [
        "model = mm.DLRMModel(\n",
        "    train_transformed.schema,\n",
        "    embedding_dim=64,\n",
        "    bottom_block=mm.MLPBlock([512, 64]),\n",
        "    top_block=mm.MLPBlock([512, 64, 32]),\n",
        "    prediction_tasks=mm.BinaryClassificationTask('binary_target')\n",
        ")\n",
        "\n",
        "opt = tensorflow.optimizers.Adam(learning_rate=5e-3)\n",
        "model.compile(optimizer=opt)\n",
        "model.fit(train_transformed, validation_data=valid_transformed, batch_size=512, epochs=10)\n",
        "\n",
        "model.optimizer.learning_rate = 1e-3\n",
        "model.fit(train_transformed, validation_data=valid_transformed, batch_size=512, epochs=6)"
      ],
      "metadata": {
        "id": "0xPEgY-6aliB",
        "colab": {
          "base_uri": "https://localhost:8080/"
        },
        "outputId": "8671bf9b-504c-43b0-ad23-4363704cc44a"
      },
      "execution_count": null,
      "outputs": [
        {
          "output_type": "stream",
          "name": "stdout",
          "text": [
            "Epoch 1/10\n",
            "   6/2335 [..............................] - ETA: 1:40 - loss: 0.6727 - precision: 0.6327 - recall: 0.8814 - binary_accuracy: 0.6006 - auc: 0.4942 - regularization_loss: 0.0000e+00 - loss_batch: 0.6727"
          ]
        },
        {
          "output_type": "stream",
          "name": "stderr",
          "text": [
            "WARNING:tensorflow:Callback method `on_train_batch_end` is slow compared to the batch time (batch time: 0.0140s vs `on_train_batch_end` time: 0.0159s). Check your callbacks.\n"
          ]
        },
        {
          "output_type": "stream",
          "name": "stdout",
          "text": [
            "2335/2335 [==============================] - 44s 18ms/step - loss: 0.5541 - precision: 0.7328 - recall: 0.8694 - binary_accuracy: 0.7152 - auc: 0.7546 - regularization_loss: 0.0000e+00 - loss_batch: 0.5542 - val_loss: 0.5899 - val_precision: 0.7060 - val_recall: 0.8808 - val_binary_accuracy: 0.6955 - val_auc: 0.7231 - val_regularization_loss: 0.0000e+00 - val_loss_batch: 0.6001\n",
            "Epoch 2/10\n",
            "2335/2335 [==============================] - 41s 17ms/step - loss: 0.4985 - precision: 0.7748 - recall: 0.8643 - binary_accuracy: 0.7538 - auc: 0.8131 - regularization_loss: 0.0000e+00 - loss_batch: 0.4985 - val_loss: 0.5886 - val_precision: 0.7258 - val_recall: 0.8240 - val_binary_accuracy: 0.6946 - val_auc: 0.7242 - val_regularization_loss: 0.0000e+00 - val_loss_batch: 0.6009\n",
            "Epoch 3/10\n",
            "2335/2335 [==============================] - 42s 17ms/step - loss: 0.4311 - precision: 0.8192 - recall: 0.8680 - binary_accuracy: 0.7941 - auc: 0.8671 - regularization_loss: 0.0000e+00 - loss_batch: 0.4309 - val_loss: 0.5836 - val_precision: 0.7128 - val_recall: 0.8639 - val_binary_accuracy: 0.6966 - val_auc: 0.7244 - val_regularization_loss: 0.0000e+00 - val_loss_batch: 0.6040\n",
            "Epoch 4/10\n",
            "2335/2335 [==============================] - 42s 18ms/step - loss: 0.3482 - precision: 0.8603 - recall: 0.8956 - binary_accuracy: 0.8410 - auc: 0.9163 - regularization_loss: 0.0000e+00 - loss_batch: 0.3480 - val_loss: 0.5862 - val_precision: 0.6981 - val_recall: 0.9005 - val_binary_accuracy: 0.6937 - val_auc: 0.7227 - val_regularization_loss: 0.0000e+00 - val_loss_batch: 0.6179\n",
            "Epoch 5/10\n",
            "2335/2335 [==============================] - 43s 18ms/step - loss: 0.2838 - precision: 0.8885 - recall: 0.9184 - binary_accuracy: 0.8747 - auc: 0.9450 - regularization_loss: 0.0000e+00 - loss_batch: 0.2837 - val_loss: 0.6167 - val_precision: 0.6948 - val_recall: 0.9068 - val_binary_accuracy: 0.6920 - val_auc: 0.7198 - val_regularization_loss: 0.0000e+00 - val_loss_batch: 0.7008\n",
            "Epoch 6/10\n",
            "2335/2335 [==============================] - 42s 18ms/step - loss: 0.2412 - precision: 0.9066 - recall: 0.9336 - binary_accuracy: 0.8966 - auc: 0.9603 - regularization_loss: 0.0000e+00 - loss_batch: 0.2410 - val_loss: 0.6240 - val_precision: 0.6940 - val_recall: 0.9086 - val_binary_accuracy: 0.6917 - val_auc: 0.7171 - val_regularization_loss: 0.0000e+00 - val_loss_batch: 0.6921\n",
            "Epoch 7/10\n",
            "2335/2335 [==============================] - 41s 17ms/step - loss: 0.2116 - precision: 0.9189 - recall: 0.9442 - binary_accuracy: 0.9115 - auc: 0.9693 - regularization_loss: 0.0000e+00 - loss_batch: 0.2115 - val_loss: 0.6469 - val_precision: 0.6887 - val_recall: 0.9193 - val_binary_accuracy: 0.6891 - val_auc: 0.7137 - val_regularization_loss: 0.0000e+00 - val_loss_batch: 0.7658\n",
            "Epoch 8/10\n",
            "2335/2335 [==============================] - 41s 17ms/step - loss: 0.1902 - precision: 0.9277 - recall: 0.9516 - binary_accuracy: 0.9220 - auc: 0.9750 - regularization_loss: 0.0000e+00 - loss_batch: 0.1901 - val_loss: 0.6858 - val_precision: 0.6911 - val_recall: 0.9129 - val_binary_accuracy: 0.6897 - val_auc: 0.7115 - val_regularization_loss: 0.0000e+00 - val_loss_batch: 0.8430\n",
            "Epoch 9/10\n",
            "2335/2335 [==============================] - 42s 18ms/step - loss: 0.1736 - precision: 0.9349 - recall: 0.9569 - binary_accuracy: 0.9302 - auc: 0.9790 - regularization_loss: 0.0000e+00 - loss_batch: 0.1735 - val_loss: 0.7316 - val_precision: 0.6919 - val_recall: 0.9109 - val_binary_accuracy: 0.6899 - val_auc: 0.7086 - val_regularization_loss: 0.0000e+00 - val_loss_batch: 0.8690\n",
            "Epoch 10/10\n",
            "2335/2335 [==============================] - 41s 17ms/step - loss: 0.1602 - precision: 0.9404 - recall: 0.9611 - binary_accuracy: 0.9365 - auc: 0.9819 - regularization_loss: 0.0000e+00 - loss_batch: 0.1601 - val_loss: 0.7394 - val_precision: 0.6909 - val_recall: 0.9136 - val_binary_accuracy: 0.6897 - val_auc: 0.7055 - val_regularization_loss: 0.0000e+00 - val_loss_batch: 0.9136\n",
            "Epoch 1/6\n",
            "2335/2335 [==============================] - 42s 18ms/step - loss: 0.1139 - precision: 0.9583 - recall: 0.9766 - binary_accuracy: 0.9581 - auc: 0.9900 - regularization_loss: 0.0000e+00 - loss_batch: 0.1138 - val_loss: 0.8747 - val_precision: 0.6898 - val_recall: 0.9173 - val_binary_accuracy: 0.6896 - val_auc: 0.7045 - val_regularization_loss: 0.0000e+00 - val_loss_batch: 1.0948\n",
            "Epoch 2/6\n",
            "2335/2335 [==============================] - 42s 18ms/step - loss: 0.0976 - precision: 0.9650 - recall: 0.9825 - binary_accuracy: 0.9662 - auc: 0.9920 - regularization_loss: 0.0000e+00 - loss_batch: 0.0975 - val_loss: 0.9893 - val_precision: 0.6897 - val_recall: 0.9168 - val_binary_accuracy: 0.6894 - val_auc: 0.7023 - val_regularization_loss: 0.0000e+00 - val_loss_batch: 1.2728\n",
            "Epoch 3/6\n",
            "2335/2335 [==============================] - 44s 19ms/step - loss: 0.0875 - precision: 0.9692 - recall: 0.9859 - binary_accuracy: 0.9711 - auc: 0.9931 - regularization_loss: 0.0000e+00 - loss_batch: 0.0874 - val_loss: 1.0134 - val_precision: 0.6898 - val_recall: 0.9164 - val_binary_accuracy: 0.6893 - val_auc: 0.7000 - val_regularization_loss: 0.0000e+00 - val_loss_batch: 1.2613\n",
            "Epoch 4/6\n",
            "2335/2335 [==============================] - 43s 18ms/step - loss: 0.0808 - precision: 0.9719 - recall: 0.9881 - binary_accuracy: 0.9743 - auc: 0.9938 - regularization_loss: 0.0000e+00 - loss_batch: 0.0807 - val_loss: 1.0016 - val_precision: 0.6893 - val_recall: 0.9173 - val_binary_accuracy: 0.6890 - val_auc: 0.6980 - val_regularization_loss: 0.0000e+00 - val_loss_batch: 1.2775\n",
            "Epoch 5/6\n",
            "2335/2335 [==============================] - 47s 19ms/step - loss: 0.0752 - precision: 0.9738 - recall: 0.9896 - binary_accuracy: 0.9765 - auc: 0.9944 - regularization_loss: 0.0000e+00 - loss_batch: 0.0751 - val_loss: 1.1106 - val_precision: 0.6899 - val_recall: 0.9164 - val_binary_accuracy: 0.6894 - val_auc: 0.6953 - val_regularization_loss: 0.0000e+00 - val_loss_batch: 1.4831\n",
            "Epoch 6/6\n",
            "2335/2335 [==============================] - 41s 17ms/step - loss: 0.0713 - precision: 0.9751 - recall: 0.9905 - binary_accuracy: 0.9778 - auc: 0.9948 - regularization_loss: 0.0000e+00 - loss_batch: 0.0712 - val_loss: 1.0397 - val_precision: 0.6902 - val_recall: 0.9157 - val_binary_accuracy: 0.6896 - val_auc: 0.6940 - val_regularization_loss: 0.0000e+00 - val_loss_batch: 1.3271\n"
          ]
        },
        {
          "output_type": "execute_result",
          "data": {
            "text/plain": [
              "<keras.callbacks.History at 0x7a14b0175240>"
            ]
          },
          "metadata": {},
          "execution_count": 99
        }
      ]
    }
  ]
}